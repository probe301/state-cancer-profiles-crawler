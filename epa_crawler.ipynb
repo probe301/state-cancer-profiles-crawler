{
 "cells": [
  {
   "cell_type": "code",
   "execution_count": 86,
   "metadata": {
    "ExecuteTime": {
     "end_time": "2017-08-08T00:51:12.808833",
     "start_time": "2017-08-08T00:51:12.794029"
    },
    "collapsed": true
   },
   "outputs": [],
   "source": [
    "from pyquery import PyQuery\n",
    "from selenium import webdriver\n",
    "from selenium.webdriver.common.desired_capabilities import DesiredCapabilities\n",
    "from selenium.common.exceptions import TimeoutException, NoSuchElementException\n",
    "from selenium.webdriver.common.by import By\n",
    "from selenium.webdriver.support.ui import WebDriverWait\n",
    "from selenium.webdriver.support import expected_conditions as EC\n",
    "from selenium.webdriver import FirefoxProfile\n",
    "from selenium.webdriver.support.ui import Select\n",
    "import os\n",
    "import time\n",
    "import csv\n",
    "\n",
    "def record_csv(headers, content, path):\n",
    "  with open(path, 'w', encoding='utf-8') as f:\n",
    "    f_csv = csv.writer(f, lineterminator='\\n')\n",
    "    f_csv.writerow(headers)\n",
    "    f_csv.writerows(content)\n",
    "  print('save csv done', path)\n"
   ]
  },
  {
   "cell_type": "code",
   "execution_count": 87,
   "metadata": {
    "ExecuteTime": {
     "end_time": "2017-08-08T00:51:14.549626",
     "start_time": "2017-08-08T00:51:14.542311"
    },
    "collapsed": true
   },
   "outputs": [],
   "source": [
    "\n",
    "class DriverFindElementByCSS:\n",
    "  ''' usage:\n",
    "      driver / css(pat)  => one element\n",
    "      driver // css(pat)  => [element list]\n",
    "  '''\n",
    "  def __call__(self, pat):\n",
    "    self.pat = pat\n",
    "    return self\n",
    "  def __rtruediv__(self, driver):\n",
    "    return driver.find_element_by_css_selector(self.pat)\n",
    "  def __rfloordiv__(self, driver):\n",
    "    return driver.find_elements_by_css_selector(self.pat)\n",
    "\n",
    "css = DriverFindElementByCSS()\n"
   ]
  },
  {
   "cell_type": "code",
   "execution_count": 90,
   "metadata": {
    "ExecuteTime": {
     "end_time": "2017-08-08T00:52:43.053444",
     "start_time": "2017-08-08T00:52:38.900105"
    },
    "collapsed": false
   },
   "outputs": [],
   "source": [
    "gecko_path = '/Users/probe/git/Lottery_Hedge_Crawler/geckodriver'\n",
    "profile = webdriver.FirefoxProfile()\n",
    "# profile.set_preference(\"browser.download.dir\",\"/Users/probe/git/StateCancerProfilesCrawler/\");\n",
    "# profile.setPreference(\"browser.download.folderList\", 2);\n",
    "profile.set_preference(\"browser.helperApps.neverAsk.saveToDisk\", \"application/octet-stream,text/csv\");\n",
    "profile.set_preference(\"browser.download.dir\",os.getcwd())\n",
    "\n",
    "# if proxies:\n",
    "#   profile.set_preference(\"network.proxy.type\", 1)\n",
    "#   profile.set_preference(\"network.proxy.socks\", \"127.0.0.1\")\n",
    "#   profile.set_preference(\"network.proxy.socks_port\", 1080)\n",
    "#   profile.set_preference(\"network.proxy.socks_version\", 5)\n",
    "#   # profile.setAssumeUntrustedCertificateIssuer(False)\n",
    "#   profile.update_preferences()\n",
    "driver = webdriver.Firefox(firefox_profile=profile,\n",
    "                           executable_path=gecko_path)\n"
   ]
  },
  {
   "cell_type": "code",
   "execution_count": 43,
   "metadata": {
    "ExecuteTime": {
     "end_time": "2017-08-08T00:27:03.846239",
     "start_time": "2017-08-08T00:26:58.615615"
    },
    "collapsed": false
   },
   "outputs": [],
   "source": []
  },
  {
   "cell_type": "code",
   "execution_count": 95,
   "metadata": {
    "ExecuteTime": {
     "end_time": "2017-08-08T00:55:32.766189",
     "start_time": "2017-08-08T00:55:32.751107"
    },
    "collapsed": false,
    "scrolled": true
   },
   "outputs": [
    {
     "data": {
      "text/plain": [
       "[['AK', 'AK'],\n",
       " ['AL', 'AL'],\n",
       " ['AR', 'AR'],\n",
       " ['AZ', 'AZ'],\n",
       " ['CA', 'CA'],\n",
       " ['CO', 'CO'],\n",
       " ['CT', 'CT'],\n",
       " ['DC', 'DC'],\n",
       " ['DE', 'DE'],\n",
       " ['FL', 'FL'],\n",
       " ['GA', 'GA'],\n",
       " ['HI', 'HI'],\n",
       " ['IA', 'IA'],\n",
       " ['ID', 'ID'],\n",
       " ['IL', 'IL'],\n",
       " ['IN', 'IN'],\n",
       " ['KS', 'KS'],\n",
       " ['KY', 'KY'],\n",
       " ['LA', 'LA'],\n",
       " ['MA', 'MA'],\n",
       " ['MD', 'MD'],\n",
       " ['ME', 'ME'],\n",
       " ['MI', 'MI'],\n",
       " ['MN', 'MN'],\n",
       " ['MO', 'MO'],\n",
       " ['MS', 'MS'],\n",
       " ['MT', 'MT'],\n",
       " ['NC', 'NC'],\n",
       " ['ND', 'ND'],\n",
       " ['NE', 'NE'],\n",
       " ['NH', 'NH'],\n",
       " ['NJ', 'NJ'],\n",
       " ['NM', 'NM'],\n",
       " ['NV', 'NV'],\n",
       " ['NY', 'NY'],\n",
       " ['OH', 'OH'],\n",
       " ['OK', 'OK'],\n",
       " ['OR', 'OR'],\n",
       " ['PA', 'PA'],\n",
       " ['RI', 'RI'],\n",
       " ['SC', 'SC'],\n",
       " ['SD', 'SD'],\n",
       " ['TN', 'TN'],\n",
       " ['TX', 'TX'],\n",
       " ['UT', 'UT'],\n",
       " ['VA', 'VA'],\n",
       " ['VT', 'VT'],\n",
       " ['WA', 'WA'],\n",
       " ['WI', 'WI'],\n",
       " ['WV', 'WV'],\n",
       " ['WY', 'WY'],\n",
       " ['AS', 'AS (Territory)'],\n",
       " ['GU', 'GU (Territory)'],\n",
       " ['MP', 'MP (Territory)'],\n",
       " ['PR', 'PR (Territory)'],\n",
       " ['VI', 'VI (Territory)'],\n",
       " ['01', '01 (Tribe)'],\n",
       " ['02', '02 (Tribe)'],\n",
       " ['03', '03 (Tribe)'],\n",
       " ['04', '04 (Tribe)'],\n",
       " ['05', '05 (Tribe)'],\n",
       " ['06', '06 (Tribe)'],\n",
       " ['07', '07 (Tribe)'],\n",
       " ['08', '08 (Tribe)'],\n",
       " ['09', '09 (Tribe)'],\n",
       " ['10', '10 (Tribe)'],\n",
       " ['NN', 'NN (Tribe)']]"
      ]
     },
     "execution_count": 95,
     "metadata": {},
     "output_type": "execute_result"
    }
   ],
   "source": [
    "state_codes = '''\n",
    "AK: AK\n",
    "AL: AL\n",
    "AR: AR\n",
    "AZ: AZ\n",
    "CA: CA\n",
    "CO: CO\n",
    "CT: CT\n",
    "DC: DC\n",
    "DE: DE\n",
    "FL: FL\n",
    "GA: GA\n",
    "HI: HI\n",
    "IA: IA\n",
    "ID: ID\n",
    "IL: IL\n",
    "IN: IN\n",
    "KS: KS\n",
    "KY: KY\n",
    "LA: LA\n",
    "MA: MA\n",
    "MD: MD\n",
    "ME: ME\n",
    "MI: MI\n",
    "MN: MN\n",
    "MO: MO\n",
    "MS: MS\n",
    "MT: MT\n",
    "NC: NC\n",
    "ND: ND\n",
    "NE: NE\n",
    "NH: NH\n",
    "NJ: NJ\n",
    "NM: NM\n",
    "NV: NV\n",
    "NY: NY\n",
    "OH: OH\n",
    "OK: OK\n",
    "OR: OR\n",
    "PA: PA\n",
    "RI: RI\n",
    "SC: SC\n",
    "SD: SD\n",
    "TN: TN\n",
    "TX: TX\n",
    "UT: UT\n",
    "VA: VA\n",
    "VT: VT\n",
    "WA: WA\n",
    "WI: WI\n",
    "WV: WV\n",
    "WY: WY\n",
    "AS: AS (Territory)\n",
    "GU: GU (Territory)\n",
    "MP: MP (Territory)\n",
    "PR: PR (Territory)\n",
    "VI: VI (Territory)\n",
    "01: 01 (Tribe)\n",
    "02: 02 (Tribe)\n",
    "03: 03 (Tribe)\n",
    "04: 04 (Tribe)\n",
    "05: 05 (Tribe)\n",
    "06: 06 (Tribe)\n",
    "07: 07 (Tribe)\n",
    "08: 08 (Tribe)\n",
    "09: 09 (Tribe)\n",
    "10: 10 (Tribe)\n",
    "NN: NN (Tribe)\n",
    "'''\n",
    "\n",
    "state_codes = [line.split(': ') for line in state_codes.strip().splitlines()]\n",
    "\n",
    "state_codes"
   ]
  },
  {
   "cell_type": "code",
   "execution_count": 44,
   "metadata": {
    "ExecuteTime": {
     "end_time": "2017-08-08T00:27:14.042356",
     "start_time": "2017-08-08T00:27:08.648062"
    },
    "collapsed": false
   },
   "outputs": [],
   "source": []
  },
  {
   "cell_type": "code",
   "execution_count": 47,
   "metadata": {
    "ExecuteTime": {
     "end_time": "2017-08-08T00:31:44.467905",
     "start_time": "2017-08-08T00:31:30.982365"
    },
    "collapsed": false
   },
   "outputs": [
    {
     "data": {
      "text/plain": [
       "True"
      ]
     },
     "execution_count": 47,
     "metadata": {},
     "output_type": "execute_result"
    }
   ],
   "source": [
    "\n"
   ]
  },
  {
   "cell_type": "code",
   "execution_count": 56,
   "metadata": {
    "ExecuteTime": {
     "end_time": "2017-08-08T00:35:36.259683",
     "start_time": "2017-08-08T00:35:36.247858"
    },
    "collapsed": true
   },
   "outputs": [],
   "source": [
    "\n",
    "\n"
   ]
  },
  {
   "cell_type": "code",
   "execution_count": 51,
   "metadata": {
    "ExecuteTime": {
     "end_time": "2017-08-08T00:33:30.041254",
     "start_time": "2017-08-08T00:33:29.764940"
    },
    "collapsed": false
   },
   "outputs": [
    {
     "data": {
      "text/plain": [
       "['PWS ID',\n",
       " 'PWS Name',\n",
       " 'PWS Type Ascending',\n",
       " 'Primary Source',\n",
       " 'Counties Served',\n",
       " 'Cities Served',\n",
       " 'Population Served Count',\n",
       " 'Number of Facilities',\n",
       " 'Number of Violations',\n",
       " 'Number of Site Visits']"
      ]
     },
     "execution_count": 51,
     "metadata": {},
     "output_type": "execute_result"
    }
   ],
   "source": []
  },
  {
   "cell_type": "code",
   "execution_count": 70,
   "metadata": {
    "ExecuteTime": {
     "end_time": "2017-08-08T00:41:55.721796",
     "start_time": "2017-08-08T00:41:55.477243"
    },
    "collapsed": false
   },
   "outputs": [
    {
     "name": "stdout",
     "output_type": "stream",
     "text": [
      "save csv done test.csv\n"
     ]
    }
   ],
   "source": []
  },
  {
   "cell_type": "code",
   "execution_count": 103,
   "metadata": {
    "ExecuteTime": {
     "end_time": "2017-08-08T01:06:34.562440",
     "start_time": "2017-08-08T01:06:34.530983"
    },
    "collapsed": true
   },
   "outputs": [],
   "source": [
    "\n",
    "def fetch_one_page(state_code):\n",
    "  driver.get('https://ofmpub.epa.gov/apex/sfdw/f?p=108:200::::::')\n",
    "  \n",
    "#   state_code = '09'\n",
    "  selector = Select(driver / css('#P200_STATE'))\n",
    "  selector.select_by_value(state_code)\n",
    "  search_button = driver / css('#P200_SEARCH')\n",
    "  search_button.click()\n",
    "  WebDriverWait(driver, 120).until(\n",
    "      EC.presence_of_element_located((By.CSS_SELECTOR, '#SFDWIR_row_select'))\n",
    "  )\n",
    "  change_all_selector = Select(driver / css('#SFDWIR_row_select'))\n",
    "  change_all_selector.select_by_value('100000')\n",
    "\n",
    "  WebDriverWait(driver, 120).until(\n",
    "      EC.invisibility_of_element_located((By.CSS_SELECTOR, 'span.u-Processing-spinner'))\n",
    "  )\n",
    "  WebDriverWait(driver, 120).until(\n",
    "      EC.presence_of_element_located((By.CSS_SELECTOR, '.t-fht-tbody:nth-child(2)'))\n",
    "  )\n",
    "\n",
    "  time.sleep(10)\n",
    "  \n",
    "  tables_header, tables_body = driver // css('.a-IRR-table')\n",
    "  headers = [td.text.replace('\\n', ' ') for td in tables_header // css('th')]\n",
    "\n",
    "  \n",
    "  content = []\n",
    "  for row in PyQuery(tables_body.get_attribute('outerHTML'))('tr'):\n",
    "    row = PyQuery(row)\n",
    "    if not row:\n",
    "      continue\n",
    "    row = [td.text for td in row('td')]\n",
    "    if row and row[0]:\n",
    "      content.append(row)\n",
    "  record_csv(headers, content, 'epa_water_system_summary_{}_[{}].csv'.format(state_code, len(content)))\n",
    "  "
   ]
  },
  {
   "cell_type": "code",
   "execution_count": 94,
   "metadata": {
    "ExecuteTime": {
     "end_time": "2017-08-08T00:55:10.144010",
     "start_time": "2017-08-08T00:53:58.929210"
    },
    "collapsed": false
   },
   "outputs": [
    {
     "name": "stdout",
     "output_type": "stream",
     "text": [
      "save csv done epa_water_system_summary_WA_[9465].csv\n"
     ]
    }
   ],
   "source": [
    "fetch_one_page(state_code='WA')"
   ]
  },
  {
   "cell_type": "code",
   "execution_count": 106,
   "metadata": {
    "ExecuteTime": {
     "end_time": "2017-08-08T01:24:37.048146",
     "start_time": "2017-08-08T01:20:14.822105"
    },
    "collapsed": false
   },
   "outputs": [
    {
     "name": "stdout",
     "output_type": "stream",
     "text": [
      "save csv done epa_water_system_summary_CT_[11043].csv\n"
     ]
    },
    {
     "ename": "TimeoutException",
     "evalue": "Message: \n",
     "output_type": "error",
     "traceback": [
      "\u001b[0;31m---------------------------------------------------------------------------\u001b[0m",
      "\u001b[0;31mTimeoutException\u001b[0m                          Traceback (most recent call last)",
      "\u001b[0;32m<ipython-input-106-c9d875c72e77>\u001b[0m in \u001b[0;36m<module>\u001b[0;34m()\u001b[0m\n\u001b[1;32m      6\u001b[0m \u001b[0;34m\u001b[0m\u001b[0m\n\u001b[1;32m      7\u001b[0m \u001b[0;32mfor\u001b[0m \u001b[0mstate_code\u001b[0m \u001b[0;32min\u001b[0m \u001b[0mcodes\u001b[0m\u001b[0;34m.\u001b[0m\u001b[0mstrip\u001b[0m\u001b[0;34m(\u001b[0m\u001b[0;34m)\u001b[0m\u001b[0;34m.\u001b[0m\u001b[0msplitlines\u001b[0m\u001b[0;34m(\u001b[0m\u001b[0;34m)\u001b[0m\u001b[0;34m:\u001b[0m\u001b[0;34m\u001b[0m\u001b[0m\n\u001b[0;32m----> 8\u001b[0;31m   \u001b[0mfetch_one_page\u001b[0m\u001b[0;34m(\u001b[0m\u001b[0mstate_code\u001b[0m\u001b[0;34m=\u001b[0m\u001b[0mstate_code\u001b[0m\u001b[0;34m)\u001b[0m\u001b[0;34m\u001b[0m\u001b[0m\n\u001b[0m",
      "\u001b[0;32m<ipython-input-103-8041fb3798c2>\u001b[0m in \u001b[0;36mfetch_one_page\u001b[0;34m(state_code)\u001b[0m\n\u001b[1;32m     18\u001b[0m   )\n\u001b[1;32m     19\u001b[0m   WebDriverWait(driver, 120).until(\n\u001b[0;32m---> 20\u001b[0;31m       \u001b[0mEC\u001b[0m\u001b[0;34m.\u001b[0m\u001b[0mpresence_of_element_located\u001b[0m\u001b[0;34m(\u001b[0m\u001b[0;34m(\u001b[0m\u001b[0mBy\u001b[0m\u001b[0;34m.\u001b[0m\u001b[0mCSS_SELECTOR\u001b[0m\u001b[0;34m,\u001b[0m \u001b[0;34m'.t-fht-tbody:nth-child(2)'\u001b[0m\u001b[0;34m)\u001b[0m\u001b[0;34m)\u001b[0m\u001b[0;34m\u001b[0m\u001b[0m\n\u001b[0m\u001b[1;32m     21\u001b[0m   )\n\u001b[1;32m     22\u001b[0m \u001b[0;34m\u001b[0m\u001b[0m\n",
      "\u001b[0;32m/Users/probe/anaconda/lib/python3.5/site-packages/selenium/webdriver/support/wait.py\u001b[0m in \u001b[0;36muntil\u001b[0;34m(self, method, message)\u001b[0m\n\u001b[1;32m     78\u001b[0m             \u001b[0;32mif\u001b[0m \u001b[0mtime\u001b[0m\u001b[0;34m.\u001b[0m\u001b[0mtime\u001b[0m\u001b[0;34m(\u001b[0m\u001b[0;34m)\u001b[0m \u001b[0;34m>\u001b[0m \u001b[0mend_time\u001b[0m\u001b[0;34m:\u001b[0m\u001b[0;34m\u001b[0m\u001b[0m\n\u001b[1;32m     79\u001b[0m                 \u001b[0;32mbreak\u001b[0m\u001b[0;34m\u001b[0m\u001b[0m\n\u001b[0;32m---> 80\u001b[0;31m         \u001b[0;32mraise\u001b[0m \u001b[0mTimeoutException\u001b[0m\u001b[0;34m(\u001b[0m\u001b[0mmessage\u001b[0m\u001b[0;34m,\u001b[0m \u001b[0mscreen\u001b[0m\u001b[0;34m,\u001b[0m \u001b[0mstacktrace\u001b[0m\u001b[0;34m)\u001b[0m\u001b[0;34m\u001b[0m\u001b[0m\n\u001b[0m\u001b[1;32m     81\u001b[0m \u001b[0;34m\u001b[0m\u001b[0m\n\u001b[1;32m     82\u001b[0m     \u001b[0;32mdef\u001b[0m \u001b[0muntil_not\u001b[0m\u001b[0;34m(\u001b[0m\u001b[0mself\u001b[0m\u001b[0;34m,\u001b[0m \u001b[0mmethod\u001b[0m\u001b[0;34m,\u001b[0m \u001b[0mmessage\u001b[0m\u001b[0;34m=\u001b[0m\u001b[0;34m''\u001b[0m\u001b[0;34m)\u001b[0m\u001b[0;34m:\u001b[0m\u001b[0;34m\u001b[0m\u001b[0m\n",
      "\u001b[0;31mTimeoutException\u001b[0m: Message: \n"
     ]
    }
   ],
   "source": [
    "codes = '''\n",
    "CT\n",
    "DC\n",
    "'''\n",
    "\n",
    "\n",
    "for state_code in codes.strip().splitlines():\n",
    "  fetch_one_page(state_code=state_code)"
   ]
  },
  {
   "cell_type": "code",
   "execution_count": null,
   "metadata": {
    "collapsed": true
   },
   "outputs": [],
   "source": []
  }
 ],
 "metadata": {
  "anaconda-cloud": {},
  "kernelspec": {
   "display_name": "Python [conda root]",
   "language": "python",
   "name": "conda-root-py"
  },
  "language_info": {
   "codemirror_mode": {
    "name": "ipython",
    "version": 3
   },
   "file_extension": ".py",
   "mimetype": "text/x-python",
   "name": "python",
   "nbconvert_exporter": "python",
   "pygments_lexer": "ipython3",
   "version": "3.5.2"
  }
 },
 "nbformat": 4,
 "nbformat_minor": 1
}
