{
 "cells": [
  {
   "cell_type": "code",
   "execution_count": 16,
   "metadata": {
    "ExecuteTime": {
     "end_time": "2017-08-08T09:06:01.106024",
     "start_time": "2017-08-08T09:06:01.093992"
    },
    "collapsed": true
   },
   "outputs": [],
   "source": [
    "from pyquery import PyQuery\n",
    "from selenium import webdriver\n",
    "from selenium.webdriver.common.desired_capabilities import DesiredCapabilities\n",
    "from selenium.common.exceptions import TimeoutException, NoSuchElementException\n",
    "from selenium.webdriver.common.by import By\n",
    "from selenium.webdriver.support.ui import WebDriverWait\n",
    "from selenium.webdriver.support import expected_conditions as EC\n",
    "from selenium.webdriver import FirefoxProfile\n",
    "from selenium.webdriver.support.ui import Select\n",
    "import os\n",
    "import time\n",
    "import csv\n",
    "\n",
    "def record_csv(headers, content, path):\n",
    "  with open(path, 'w', encoding='utf-8') as f:\n",
    "    f_csv = csv.writer(f, lineterminator='\\n')\n",
    "    f_csv.writerow(headers)\n",
    "    f_csv.writerows(content)\n",
    "  print('save csv done', path)\n"
   ]
  },
  {
   "cell_type": "code",
   "execution_count": 17,
   "metadata": {
    "ExecuteTime": {
     "end_time": "2017-08-08T09:06:10.812393",
     "start_time": "2017-08-08T09:06:10.801363"
    },
    "collapsed": true
   },
   "outputs": [],
   "source": [
    "\n",
    "class DriverFindElementByCSS:\n",
    "  ''' usage:\n",
    "      driver / css(pat)  => one element\n",
    "      driver // css(pat)  => [element list]\n",
    "  '''\n",
    "  def __call__(self, pat):\n",
    "    self.pat = pat\n",
    "    return self\n",
    "  def __rtruediv__(self, driver):\n",
    "    return driver.find_element_by_css_selector(self.pat)\n",
    "  def __rfloordiv__(self, driver):\n",
    "    return driver.find_elements_by_css_selector(self.pat)\n",
    "\n",
    "css = DriverFindElementByCSS()\n"
   ]
  },
  {
   "cell_type": "code",
   "execution_count": 36,
   "metadata": {
    "ExecuteTime": {
     "end_time": "2017-08-08T14:28:27.392975",
     "start_time": "2017-08-08T14:28:24.020881"
    },
    "collapsed": false
   },
   "outputs": [],
   "source": [
    "gecko_path = '/Users/probe/git/Lottery_Hedge_Crawler/geckodriver'\n",
    "gecko_path = 'C:/Program Files/Mozilla Firefox/geckodriver.exe'\n",
    "profile = webdriver.FirefoxProfile()\n",
    "# profile.set_preference(\"browser.download.dir\",\"/Users/probe/git/StateCancerProfilesCrawler/\");\n",
    "# profile.setPreference(\"browser.download.folderList\", 2);\n",
    "profile.set_preference(\"browser.helperApps.neverAsk.saveToDisk\", \"application/octet-stream,text/csv\");\n",
    "profile.set_preference(\"browser.download.dir\",os.getcwd())\n",
    "\n",
    "# if proxies:\n",
    "#   profile.set_preference(\"network.proxy.type\", 1)\n",
    "#   profile.set_preference(\"network.proxy.socks\", \"127.0.0.1\")\n",
    "#   profile.set_preference(\"network.proxy.socks_port\", 1080)\n",
    "#   profile.set_preference(\"network.proxy.socks_version\", 5)\n",
    "#   # profile.setAssumeUntrustedCertificateIssuer(False)\n",
    "#   profile.update_preferences()\n",
    "driver = webdriver.Firefox(firefox_profile=profile,\n",
    "                           executable_path=gecko_path)\n"
   ]
  },
  {
   "cell_type": "code",
   "execution_count": 34,
   "metadata": {
    "ExecuteTime": {
     "end_time": "2017-08-08T14:27:14.123077",
     "start_time": "2017-08-08T14:27:14.071942"
    },
    "collapsed": true
   },
   "outputs": [],
   "source": [
    "\n",
    "def fetch_one_page(state_code):\n",
    "  driver.get('https://ofmpub.epa.gov/apex/sfdw/f?p=108:200::::::')\n",
    "  print('get map page')\n",
    "#   state_code = '09'\n",
    "  selector = Select(driver / css('#P200_STATE'))\n",
    "  selector.select_by_value(state_code)\n",
    "  search_button = driver / css('#P200_SEARCH')\n",
    "  search_button.click()\n",
    "  print('search')\n",
    "  WebDriverWait(driver, 120).until(\n",
    "      EC.presence_of_element_located((By.CSS_SELECTOR, '#SFDWIR_row_select'))\n",
    "  )\n",
    "  change_all_selector = Select(driver / css('#SFDWIR_row_select'))\n",
    "  change_all_selector.select_by_value('100000')\n",
    "  print('click all rows')\n",
    "  WebDriverWait(driver, 120).until(\n",
    "      EC.invisibility_of_element_located((By.CSS_SELECTOR, 'span.u-Processing-spinner'))\n",
    "  )\n",
    "  WebDriverWait(driver, 400).until(\n",
    "      EC.presence_of_element_located((By.CSS_SELECTOR, '.t-fht-tbody'))\n",
    "  )\n",
    "\n",
    "  time.sleep(10)\n",
    "  print('prepare to fetch')\n",
    "  tables_header, tables_body = driver // css('.a-IRR-table')\n",
    "  headers = [td.text.replace('\\n', ' ') for td in tables_header // css('th')]\n",
    "\n",
    "  \n",
    "  content = []\n",
    "  for row in PyQuery(tables_body.get_attribute('outerHTML'))('tr'):\n",
    "    row = PyQuery(row)\n",
    "    if not row:\n",
    "      continue\n",
    "    row = [td.text for td in row('td')]\n",
    "    if row and row[0]:\n",
    "      content.append(row)\n",
    "  record_csv(headers, content, 'epa_water_system_summary_{}_[{}].csv'.format(state_code, len(content)))\n",
    "  "
   ]
  },
  {
   "cell_type": "code",
   "execution_count": 41,
   "metadata": {
    "ExecuteTime": {
     "end_time": "2017-08-08T15:50:48.918634",
     "start_time": "2017-08-08T15:47:52.977803"
    },
    "collapsed": false,
    "scrolled": false
   },
   "outputs": [
    {
     "name": "stdout",
     "output_type": "stream",
     "text": [
      "get map page\n",
      "search\n",
      "click all rows\n",
      "prepare to fetch\n",
      "save csv done epa_water_system_summary_04_[120].csv\n",
      "get map page\n",
      "search\n",
      "click all rows\n",
      "prepare to fetch\n",
      "save csv done epa_water_system_summary_05_[282].csv\n",
      "get map page\n",
      "search\n",
      "click all rows\n",
      "prepare to fetch\n",
      "save csv done epa_water_system_summary_06_[151].csv\n",
      "get map page\n",
      "search\n",
      "click all rows\n",
      "prepare to fetch\n",
      "save csv done epa_water_system_summary_07_[21].csv\n",
      "get map page\n",
      "search\n",
      "click all rows\n",
      "prepare to fetch\n",
      "save csv done epa_water_system_summary_08_[239].csv\n",
      "get map page\n",
      "search\n",
      "click all rows\n",
      "prepare to fetch\n",
      "save csv done epa_water_system_summary_09_[567].csv\n",
      "get map page\n",
      "search\n",
      "click all rows\n",
      "prepare to fetch\n",
      "save csv done epa_water_system_summary_10_[202].csv\n",
      "get map page\n",
      "search\n",
      "click all rows\n",
      "prepare to fetch\n",
      "save csv done epa_water_system_summary_NN_[250].csv\n"
     ]
    }
   ],
   "source": [
    "# why DC connot fetch\n",
    "\n",
    "# 03\n",
    "codes = '''\n",
    "\n",
    "04\n",
    "05\n",
    "06\n",
    "07\n",
    "08\n",
    "09\n",
    "10\n",
    "NN\n",
    "'''\n",
    "\n",
    "\n",
    "for state_code in codes.strip().splitlines():\n",
    "  fetch_one_page(state_code=state_code)"
   ]
  },
  {
   "cell_type": "code",
   "execution_count": null,
   "metadata": {
    "collapsed": true
   },
   "outputs": [],
   "source": []
  },
  {
   "cell_type": "code",
   "execution_count": null,
   "metadata": {
    "collapsed": true
   },
   "outputs": [],
   "source": []
  }
 ],
 "metadata": {
  "anaconda-cloud": {},
  "kernelspec": {
   "display_name": "Python 3",
   "language": "python",
   "name": "python3"
  },
  "language_info": {
   "codemirror_mode": {
    "name": "ipython",
    "version": 3
   },
   "file_extension": ".py",
   "mimetype": "text/x-python",
   "name": "python",
   "nbconvert_exporter": "python",
   "pygments_lexer": "ipython3",
   "version": "3.5.2"
  }
 },
 "nbformat": 4,
 "nbformat_minor": 1
}
