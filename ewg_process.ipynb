{
 "cells": [
  {
   "cell_type": "code",
   "execution_count": 45,
   "metadata": {
    "ExecuteTime": {
     "end_time": "2018-01-30T22:47:39.460748",
     "start_time": "2018-01-30T22:47:39.426156"
    },
    "collapsed": true
   },
   "outputs": [],
   "source": [
    "\n",
    "from pathlib import Path\n",
    "\n",
    "def _start_or_end_with(text, pattern):\n",
    "  pattern = tuple(pattern)\n",
    "  return text.startswith(pattern) or text.endswith(pattern)\n",
    "\n",
    "def load_csv(path, sample=10, only_title=False, include=(), exclude=()):\n",
    "  from itertools import compress\n",
    "  import csv\n",
    "\n",
    "  with open(path) as f:\n",
    "    titles = f.readline().strip().split(',')\n",
    "\n",
    "  if include:\n",
    "    column_compress = [_start_or_end_with(title, include) for title in titles]\n",
    "  else:\n",
    "    column_compress = [True] * len(titles)\n",
    "  if exclude:\n",
    "    column_compress = [not _start_or_end_with(title, exclude) and tb for title, tb in zip(titles, column_compress)]\n",
    "\n",
    "  if only_title:\n",
    "    return list(compress(titles, column_compress))\n",
    "\n",
    "  with open(path) as f:\n",
    "    lines = csv.reader(f)\n",
    "    next(lines)\n",
    "    result = []\n",
    "    for i, line in enumerate(lines, 1):\n",
    "      if sample and i > sample:\n",
    "        break\n",
    "      # result.append([_load_csv_value_convert(x) for x in compress(line, column_compress)])\n",
    "      result.append([x for x in compress(line, column_compress)])\n",
    "\n",
    "  return result\n",
    "\n"
   ]
  },
  {
   "cell_type": "markdown",
   "metadata": {},
   "source": [
    "    目录结构大致是\n",
    "    .\n",
    "    |____cancer mortality white male 65 - sheet1.csv\n",
    "    |____ewg_process.ipynb\n",
    "    |____epa_water_system\n",
    "    | |____epa_water_system_summary_AK_[3549].csv\n",
    "    | |____epa_water_system_summary_AL_[1810].csv\n",
    "    | |____epa_water_system_summary_AR_[4194].csv\n",
    "    | |____epa_water_system_summary_AS_[273].csv\n",
    "    | |____epa_water_system_summary_AZ_[3967].csv\n",
    "    | |____epa_water_system_summary_CA_[18131].csv\n",
    "    | |____epa_water_system_summary_CO_[4588].csv\n",
    "    | |____epa_water_system_summary_CT_[11043].csv\n",
    "    | |____epa_water_system_summary_DE_[1300].csv\n",
    "    | |____......\n",
    "    | |____......\n",
    "    | |____......\n",
    "    | |____epa_water_system_summary_TN_[4939].csv\n",
    "    | |____epa_water_system_summary_TX_[15282].csv\n",
    "    | |____epa_water_system_summary_UT_[2114].csv\n",
    "    | |____epa_water_system_summary_VA_[8721].csv\n",
    "    | |____epa_water_system_summary_VI_[986].csv\n",
    "    | |____epa_water_system_summary_VT_[4286].csv\n",
    "    | |____epa_water_system_summary_WA_[9465].csv\n",
    "    | |____epa_water_system_summary_WI_[23678].csv\n",
    "    | |____epa_water_system_summary_WV_[4337].csv\n",
    "    | |____epa_water_system_summary_WY_[1859].csv\n",
    "    | \n",
    "    |____ewg_all_done[22466]_nodata[396908].csv\n",
    "\n"
   ]
  },
  {
   "cell_type": "markdown",
   "metadata": {},
   "source": [
    "### 找出 `cancer mortality white male 65.xls` 中所有需要处理的 州-县"
   ]
  },
  {
   "cell_type": "code",
   "execution_count": 40,
   "metadata": {
    "ExecuteTime": {
     "end_time": "2018-01-30T22:45:15.134021",
     "start_time": "2018-01-30T22:45:15.120028"
    },
    "collapsed": false,
    "scrolled": false
   },
   "outputs": [
    {
     "name": "stdout",
     "output_type": "stream",
     "text": [
      "headers:  ['County', ' FIPS', 'Met Healthy People Objective of 161.4?', '\"Age-Adjusted Death Rate(? - deaths per 100', '000\"', 'Lower 95% Confidence Interval', 'Upper 95% Confidence Interval', 'Average Annual Count', 'Recent Trend', 'Recent 5-Year Trend (? in Death Rates', 'Lower 95% Confidence Interval', 'Upper 95% Confidence Interval', '', 'life expenctancy', '']\n",
      "\n",
      "\n",
      "counties:  ['Douglas County, Colorado', 'Fairfax County, Virginia', 'Marin County, California', 'Santa Clara County, California', 'Loudoun County, Virginia', 'Collier County, Florida', 'Howard County, Maryland', 'San Mateo County, California', 'Bergen County, New Jersey', 'Olmsted County, Minnesota', 'Stearns County, Minnesota', 'Westchester County, New York', 'Hunterdon County, New Jersey', 'Orange County, California', 'Rockland County, New York', 'Nassau County, New York', 'Morris County, New Jersey', 'Somerset County, New Jersey', 'Washington County, Minnesota', 'Ozaukee County, Wisconsin'] ...\n"
     ]
    }
   ],
   "source": [
    "sheet = './cancer mortality white male 65 - sheet1.csv'\n",
    "headers = load_csv(sheet, only_title=True)\n",
    "print('headers: ', headers)\n",
    "\n",
    "\n",
    "county_list = load_csv(sheet, sample=None, include=('County', ))\n",
    "\n",
    "county_list = [elem[0].split(' (')[0] for elem in county_list if elem[0] != 'United States (6)']\n",
    "\n",
    "print('\\n\\ncounties: ', county_list[:20], '...')"
   ]
  },
  {
   "cell_type": "markdown",
   "metadata": {},
   "source": [
    "### 找出 `epa_water_system/` 中对应 州-县 的所有水厂 ID"
   ]
  },
  {
   "cell_type": "code",
   "execution_count": 49,
   "metadata": {
    "ExecuteTime": {
     "end_time": "2018-01-30T22:57:28.653519",
     "start_time": "2018-01-30T22:57:28.551976"
    },
    "collapsed": false
   },
   "outputs": [
    {
     "name": "stdout",
     "output_type": "stream",
     "text": [
      "find epa_water_system_csv epa_water_system/epa_water_system_summary_CO_[4588].csv\n",
      "Adams\n",
      "[('CO0101001', 0), ('CO0053876', 200), ('CO0101005', 0), ('CO0101010', 0), ('CO0201006', 257), ('CO0028969', 85), ('CO0101015', 460), ('CO0101020', 3100), ('CO0116140', 3396), ('CO0117358', 101), ('CO0101025', 36010), ('CO0101030', 77), ('CO0101166', 150), ('CO0101035', 0), ('CO0101185', 1000), ('CO0101188', 160), ('CO0101040', 17000), ('CO0101187', 100), ('CO0101205', 1200), ('CO0101234', 1193)] ... 165\n"
     ]
    }
   ],
   "source": [
    "state_dict = '''阿拉巴马州\tAlabama\tAL\t蒙哥马利\tMontgomery\n",
    "阿拉斯加州\tAlaska\tAK\t朱诺\tJuneau\n",
    "阿利桑那州\tArizona\tAZ\t菲尼克斯\tPhoenix\n",
    "阿肯色州\tArkansas\tAR\t小石城\tLittle rock\n",
    "加利福尼亚州\tCalifornia\tCA\t萨克拉门托\tSacramento\n",
    "科罗拉多州\tColorado\tCO\t丹佛\tDenver\n",
    "康涅狄格州\tConnecticut\tCT\t哈特福德\tHartford\n",
    "特拉华州\tDelaware\tDE\t多佛\tDover\n",
    "佛罗里达州\tFlorida\tFL\t塔拉哈西\tTallahassee\n",
    "乔治亚州\tGeorgia\tGA\t亚特兰大\tAtlanta\n",
    "夏威夷州\tHawaii\tHI\t檀香山www.fltacn.com火努鲁鲁\tHonolulu\n",
    "爱达荷州\tIdaho\tID\t博伊西\tBoise\n",
    "伊利诺斯州\tIllinois\tIL\t斯普林菲尔德\tSpringfield\n",
    "印第安纳州\tIndiana\tIN\t印第安纳波利斯\tIndianapolis\n",
    "爱荷华州\tIowa\tIA\t得梅因\tDes Moines\n",
    "堪萨斯州\tKansas\tKS\t托皮卡\tTopeka\n",
    "肯塔基州\tKentucky\tKY\t法兰克福\tFrankfort\n",
    "路易斯安那州\tLouisiana\tLA\t巴吞鲁日\tBaton Rouge\n",
    "缅因州\tMaine\tME\t奥古斯塔\tAugusta\n",
    "马里兰州\tMaryland\tMD\t安纳波利斯\tAnnapolis\n",
    "马萨诸塞州\tMassachusetts\tMA\t波士顿\tBoston\n",
    "密歇根州\tMichigan\tMI\t兰辛\tLansing\n",
    "明尼苏达州\tMinnesota\tMN\t圣保罗\tSt. Paul\n",
    "密西西比州\tMississippi\tMS\t杰克逊\tJackson\n",
    "密苏里州\tMissouri\tMO\t杰斐逊城\tJefferson City\n",
    "蒙大拿州\tMontana\tMT\t海伦娜\tHelena\n",
    "内布拉斯加州\tNebraska\tNE\t林肯\tLincoln\n",
    "内华达州\tNevada\tNV\t卡森城\tCarson City\n",
    "新罕布什尔州\tNew hampshire\tNH\t康科德\tConcord\n",
    "新泽西州\tNew jersey\tNJ\t特伦顿\tTrenton\n",
    "新墨西哥州\tNew mexico\tNM\t圣菲\tSanta Fe\n",
    "纽约州\tNew York\tNY\t奥尔巴尼\tAlbany\n",
    "北卡罗来纳州\tNorth Carolina\tNC\t纳罗利\tRaleigh\n",
    "北达科他州\tNorth Dakota\tND\t俾斯麦\tBismarck\n",
    "俄亥俄州\tOhio\tOH\t哥伦布\tColumbus\n",
    "俄克拉荷马州\tOklahoma\tOK\t俄克拉何马城\tOklahoma City\n",
    "俄勒冈州\tOregon\tOR\t塞勒姆\tSalem\n",
    "宾夕法尼亚州\tPennsylvania\tPA\t哈里斯堡\tHarrisburg\n",
    "罗得岛州\tRhode island\tRI\t普罗维登斯\tProvidence\n",
    "南卡罗来纳州\tSouth carolina\tSC\t哥伦比亚\tColumbia\n",
    "南达科他州\tSouth dakota\tSD\t皮尔\tPierre\n",
    "田纳西州\tTennessee\tTN\t纳什维尔\tNashville\n",
    "得克萨斯州\tTexas\tTX\t奥斯汀\tAustin\n",
    "犹他州\tUtah\tUT\t盐湖城\tSalt Lake City\n",
    "佛蒙特州\tVermont\tVT\t蒙彼利埃\tMontpelier\n",
    "弗吉尼亚州\tVirginia\tVA\t里士满\tRichmond\n",
    "华盛顿州\tWashington\tWA\t奥林匹亚\tOlympia\n",
    "西弗吉尼亚州\tWest Virginia\tWV\t查尔斯顿\tCharleston\n",
    "威斯康辛州\tWisconsin\tWI\t麦迪逊\tMadison\n",
    "怀俄明州\tWyoming\tWY\t夏延\tCheyenne'''\n",
    "\n",
    "state_dict = {line.split('\\t')[1]: line.split('\\t')[2] for line in state_dict.splitlines()}\n",
    "\n",
    "\n",
    "\n",
    "\n",
    "def find_epa_water_system_csv_filename(state_county_name):\n",
    "  state_name = state_county_name.split(',')[1].strip()\n",
    "  state_alias = state_dict[state_name]\n",
    "#   filename like epa_water_system_summary_OR_[5802].csv\n",
    "  ret = list(Path('./epa_water_system/').glob('epa_water_system_summary_{}*.csv'.format(state_alias)))\n",
    "  if len(ret) != 1:\n",
    "    raise ValueError\n",
    "  else:\n",
    "    return str(ret[0])\n",
    "  \n",
    "  \n",
    "\n",
    "\n",
    "def find_pwsids_from_epa_water_system_csv(state_county_name, epa_water_system_csv):\n",
    "  county_name = state_county_name.split(',')[0].strip().replace(' County', '')\n",
    "  print(county_name)\n",
    "  epa_data = load_csv(epa_water_system_csv, sample=None, include='PWS ID,Counties Served,Population Served Count'.split(','))\n",
    "  return [(pwsid, int(pop_count.replace(',', ''))) for pwsid, name, pop_count in epa_data if name == county_name]\n",
    "\n",
    "\n",
    "\n",
    "\n",
    "state_county_name = 'Douglas County, Colorado'\n",
    "state_county_name = 'Adams County, Colorado'\n",
    "# state_county_name = 'Stearns County, Minnesota'\n",
    "\n",
    "epa_water_system_csv = find_epa_water_system_csv_filename(state_county_name)\n",
    "print('find epa_water_system_csv', epa_water_system_csv)\n",
    "\n",
    "county_pwsid_and_pop_count_list = find_pwsids_from_epa_water_system_csv(state_county_name, epa_water_system_csv)\n",
    "print(county_pwsid_and_pop_count_list[:20], '...', len(county_pwsid_and_pop_count_list))"
   ]
  },
  {
   "cell_type": "markdown",
   "metadata": {},
   "source": [
    "### 用对应 州-县 的所有水厂 ID 找到 Nitrate 数据, 大部分应该是没有数据"
   ]
  },
  {
   "cell_type": "code",
   "execution_count": 47,
   "metadata": {
    "ExecuteTime": {
     "end_time": "2018-01-30T22:51:34.248855",
     "start_time": "2018-01-30T22:51:32.168777"
    },
    "collapsed": false
   },
   "outputs": [
    {
     "data": {
      "text/plain": [
       "22466"
      ]
     },
     "execution_count": 47,
     "metadata": {},
     "output_type": "execute_result"
    }
   ],
   "source": [
    "nitrate_data = {}\n",
    "\n",
    "\n",
    "# 计算一次就行, 很慢\n",
    "for pwsid, state, national, this_utility in load_csv('./ewg_all_done[22466]_nodata[396908].csv', sample=None):\n",
    "  if this_utility != 'nodata':\n",
    "    nitrate_data[pwsid] = float(this_utility.replace(' ppm', ''))\n",
    "\n",
    "len(nitrate_data.keys())"
   ]
  },
  {
   "cell_type": "markdown",
   "metadata": {},
   "source": [
    "### 对有数据的部分做加权平均, 得到该 州-县 的 Nitrate 水平"
   ]
  },
  {
   "cell_type": "code",
   "execution_count": 50,
   "metadata": {
    "ExecuteTime": {
     "end_time": "2018-01-30T22:57:31.703932",
     "start_time": "2018-01-30T22:57:31.694555"
    },
    "collapsed": false
   },
   "outputs": [
    {
     "name": "stdout",
     "output_type": "stream",
     "text": [
      "[(36010, 4.22), (77, 6.78), (1000, 0.011), (1200, 0.011), (1500, 4.22), (11678, 0.011), (961, 1.9), (986, 0.011), (2005, 0.011), (651, 0.011), (130, 0.169), (1965, 0.48), (70, 0.2), (58737, 4.88), (2050, 1.5), (136977, 0.48), (5078, 1.5), (178250, 0.15)]\n",
      "\n",
      "Adams County, Colorado - mean_nitrate_value:  1.255624127923519\n"
     ]
    }
   ],
   "source": [
    "\n",
    "county_nitrate_list = [(pop_count, nitrate_data[pwsid]) for pwsid, pop_count in county_pwsid_and_pop_count_list if pwsid in nitrate_data]\n",
    "\n",
    "\n",
    "print(county_nitrate_list)\n",
    "\n",
    "print()\n",
    "print(state_county_name, '- mean_nitrate_value: ', sum(pop*val for pop, val in county_nitrate_list) / sum(pop for pop, val in county_nitrate_list))"
   ]
  },
  {
   "cell_type": "code",
   "execution_count": null,
   "metadata": {
    "collapsed": true
   },
   "outputs": [],
   "source": []
  },
  {
   "cell_type": "code",
   "execution_count": null,
   "metadata": {
    "collapsed": true
   },
   "outputs": [],
   "source": []
  }
 ],
 "metadata": {
  "anaconda-cloud": {},
  "kernelspec": {
   "display_name": "Python [default]",
   "language": "python",
   "name": "python3"
  },
  "language_info": {
   "codemirror_mode": {
    "name": "ipython",
    "version": 3
   },
   "file_extension": ".py",
   "mimetype": "text/x-python",
   "name": "python",
   "nbconvert_exporter": "python",
   "pygments_lexer": "ipython3",
   "version": "3.5.2"
  }
 },
 "nbformat": 4,
 "nbformat_minor": 1
}
